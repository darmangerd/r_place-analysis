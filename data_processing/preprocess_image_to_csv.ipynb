{
 "cells": [
  {
   "cell_type": "markdown",
   "metadata": {},
   "source": [
    "# Imports"
   ]
  },
  {
   "cell_type": "code",
   "execution_count": 1,
   "metadata": {},
   "outputs": [],
   "source": [
    "import pandas as pd\n",
    "import matplotlib.colors\n",
    "import os\n",
    "from glob import glob\n",
    "from datetime import datetime"
   ]
  },
  {
   "cell_type": "markdown",
   "metadata": {},
   "source": [
    "# Files"
   ]
  },
  {
   "cell_type": "code",
   "execution_count": 2,
   "metadata": {},
   "outputs": [],
   "source": [
    "src_path = os.path.join(\"/\", \"Volumes\", \"owen\", \"datas\", \"rplace\")\n",
    "src_glob = os.path.join(src_path, \"2022_place_canvas_history-*.csv\")\n",
    "dest_path = os.path.join(src_path)"
   ]
  },
  {
   "cell_type": "code",
   "execution_count": 3,
   "metadata": {},
   "outputs": [
    {
     "data": {
      "text/plain": [
       "['/Volumes/owen/datas/rplace/2022_place_canvas_history-000000000000.csv',\n",
       " '/Volumes/owen/datas/rplace/2022_place_canvas_history-000000000001.csv',\n",
       " '/Volumes/owen/datas/rplace/2022_place_canvas_history-000000000002.csv',\n",
       " '/Volumes/owen/datas/rplace/2022_place_canvas_history-000000000003.csv',\n",
       " '/Volumes/owen/datas/rplace/2022_place_canvas_history-000000000004.csv',\n",
       " '/Volumes/owen/datas/rplace/2022_place_canvas_history-000000000005.csv',\n",
       " '/Volumes/owen/datas/rplace/2022_place_canvas_history-000000000006.csv',\n",
       " '/Volumes/owen/datas/rplace/2022_place_canvas_history-000000000007.csv',\n",
       " '/Volumes/owen/datas/rplace/2022_place_canvas_history-000000000008.csv',\n",
       " '/Volumes/owen/datas/rplace/2022_place_canvas_history-000000000009.csv',\n",
       " '/Volumes/owen/datas/rplace/2022_place_canvas_history-000000000010.csv',\n",
       " '/Volumes/owen/datas/rplace/2022_place_canvas_history-000000000011.csv',\n",
       " '/Volumes/owen/datas/rplace/2022_place_canvas_history-000000000012.csv',\n",
       " '/Volumes/owen/datas/rplace/2022_place_canvas_history-000000000013.csv',\n",
       " '/Volumes/owen/datas/rplace/2022_place_canvas_history-000000000014.csv',\n",
       " '/Volumes/owen/datas/rplace/2022_place_canvas_history-000000000015.csv',\n",
       " '/Volumes/owen/datas/rplace/2022_place_canvas_history-000000000016.csv',\n",
       " '/Volumes/owen/datas/rplace/2022_place_canvas_history-000000000017.csv',\n",
       " '/Volumes/owen/datas/rplace/2022_place_canvas_history-000000000018.csv',\n",
       " '/Volumes/owen/datas/rplace/2022_place_canvas_history-000000000019.csv',\n",
       " '/Volumes/owen/datas/rplace/2022_place_canvas_history-000000000020.csv',\n",
       " '/Volumes/owen/datas/rplace/2022_place_canvas_history-000000000021.csv',\n",
       " '/Volumes/owen/datas/rplace/2022_place_canvas_history-000000000022.csv',\n",
       " '/Volumes/owen/datas/rplace/2022_place_canvas_history-000000000023.csv',\n",
       " '/Volumes/owen/datas/rplace/2022_place_canvas_history-000000000024.csv',\n",
       " '/Volumes/owen/datas/rplace/2022_place_canvas_history-000000000025.csv',\n",
       " '/Volumes/owen/datas/rplace/2022_place_canvas_history-000000000026.csv',\n",
       " '/Volumes/owen/datas/rplace/2022_place_canvas_history-000000000027.csv',\n",
       " '/Volumes/owen/datas/rplace/2022_place_canvas_history-000000000028.csv',\n",
       " '/Volumes/owen/datas/rplace/2022_place_canvas_history-000000000029.csv',\n",
       " '/Volumes/owen/datas/rplace/2022_place_canvas_history-000000000030.csv',\n",
       " '/Volumes/owen/datas/rplace/2022_place_canvas_history-000000000031.csv',\n",
       " '/Volumes/owen/datas/rplace/2022_place_canvas_history-000000000032.csv',\n",
       " '/Volumes/owen/datas/rplace/2022_place_canvas_history-000000000033.csv',\n",
       " '/Volumes/owen/datas/rplace/2022_place_canvas_history-000000000034.csv',\n",
       " '/Volumes/owen/datas/rplace/2022_place_canvas_history-000000000035.csv',\n",
       " '/Volumes/owen/datas/rplace/2022_place_canvas_history-000000000036.csv',\n",
       " '/Volumes/owen/datas/rplace/2022_place_canvas_history-000000000037.csv',\n",
       " '/Volumes/owen/datas/rplace/2022_place_canvas_history-000000000038.csv',\n",
       " '/Volumes/owen/datas/rplace/2022_place_canvas_history-000000000039.csv',\n",
       " '/Volumes/owen/datas/rplace/2022_place_canvas_history-000000000040.csv',\n",
       " '/Volumes/owen/datas/rplace/2022_place_canvas_history-000000000041.csv',\n",
       " '/Volumes/owen/datas/rplace/2022_place_canvas_history-000000000042.csv',\n",
       " '/Volumes/owen/datas/rplace/2022_place_canvas_history-000000000043.csv',\n",
       " '/Volumes/owen/datas/rplace/2022_place_canvas_history-000000000044.csv',\n",
       " '/Volumes/owen/datas/rplace/2022_place_canvas_history-000000000045.csv',\n",
       " '/Volumes/owen/datas/rplace/2022_place_canvas_history-000000000046.csv',\n",
       " '/Volumes/owen/datas/rplace/2022_place_canvas_history-000000000047.csv',\n",
       " '/Volumes/owen/datas/rplace/2022_place_canvas_history-000000000048.csv',\n",
       " '/Volumes/owen/datas/rplace/2022_place_canvas_history-000000000049.csv',\n",
       " '/Volumes/owen/datas/rplace/2022_place_canvas_history-000000000050.csv',\n",
       " '/Volumes/owen/datas/rplace/2022_place_canvas_history-000000000051.csv',\n",
       " '/Volumes/owen/datas/rplace/2022_place_canvas_history-000000000052.csv',\n",
       " '/Volumes/owen/datas/rplace/2022_place_canvas_history-000000000053.csv',\n",
       " '/Volumes/owen/datas/rplace/2022_place_canvas_history-000000000054.csv',\n",
       " '/Volumes/owen/datas/rplace/2022_place_canvas_history-000000000055.csv',\n",
       " '/Volumes/owen/datas/rplace/2022_place_canvas_history-000000000056.csv',\n",
       " '/Volumes/owen/datas/rplace/2022_place_canvas_history-000000000057.csv',\n",
       " '/Volumes/owen/datas/rplace/2022_place_canvas_history-000000000058.csv',\n",
       " '/Volumes/owen/datas/rplace/2022_place_canvas_history-000000000059.csv',\n",
       " '/Volumes/owen/datas/rplace/2022_place_canvas_history-000000000060.csv',\n",
       " '/Volumes/owen/datas/rplace/2022_place_canvas_history-000000000061.csv',\n",
       " '/Volumes/owen/datas/rplace/2022_place_canvas_history-000000000062.csv',\n",
       " '/Volumes/owen/datas/rplace/2022_place_canvas_history-000000000063.csv',\n",
       " '/Volumes/owen/datas/rplace/2022_place_canvas_history-000000000064.csv',\n",
       " '/Volumes/owen/datas/rplace/2022_place_canvas_history-000000000065.csv',\n",
       " '/Volumes/owen/datas/rplace/2022_place_canvas_history-000000000066.csv',\n",
       " '/Volumes/owen/datas/rplace/2022_place_canvas_history-000000000067.csv',\n",
       " '/Volumes/owen/datas/rplace/2022_place_canvas_history-000000000068.csv',\n",
       " '/Volumes/owen/datas/rplace/2022_place_canvas_history-000000000069.csv',\n",
       " '/Volumes/owen/datas/rplace/2022_place_canvas_history-000000000070.csv',\n",
       " '/Volumes/owen/datas/rplace/2022_place_canvas_history-000000000071.csv',\n",
       " '/Volumes/owen/datas/rplace/2022_place_canvas_history-000000000072.csv',\n",
       " '/Volumes/owen/datas/rplace/2022_place_canvas_history-000000000073.csv',\n",
       " '/Volumes/owen/datas/rplace/2022_place_canvas_history-000000000074.csv',\n",
       " '/Volumes/owen/datas/rplace/2022_place_canvas_history-000000000075.csv',\n",
       " '/Volumes/owen/datas/rplace/2022_place_canvas_history-000000000076.csv',\n",
       " '/Volumes/owen/datas/rplace/2022_place_canvas_history-000000000077.csv',\n",
       " '/Volumes/owen/datas/rplace/2022_place_canvas_history-000000000078.csv']"
      ]
     },
     "execution_count": 3,
     "metadata": {},
     "output_type": "execute_result"
    }
   ],
   "source": [
    "files = glob(src_glob)\n",
    "files = sorted(files, key=lambda f: f[-6:-4])\n",
    "files"
   ]
  },
  {
   "cell_type": "markdown",
   "metadata": {},
   "source": [
    "# Data processing"
   ]
  },
  {
   "cell_type": "code",
   "execution_count": 4,
   "metadata": {},
   "outputs": [],
   "source": [
    "def open_dataset(file: str):\n",
    "    def date_parser(d: str):\n",
    "        if \".\" in d:\n",
    "            return datetime.strptime(d, \"%Y-%m-%d %H:%M:%S.%f %Z\")\n",
    "        return datetime.strptime(d, \"%Y-%m-%d %H:%M:%S %Z\")\n",
    "\n",
    "    df = pd.read_csv(\n",
    "        file,\n",
    "        parse_dates=[\"timestamp\"],\n",
    "        date_parser=date_parser\n",
    "    )\n",
    "    \n",
    "    df = df.rename({\"timestamp\": \"date\"}, axis=1)\n",
    "    df[\"timestamp\"] = df[\"date\"].apply(lambda x: x.timestamp())\n",
    "    df = df.sort_values(by=\"timestamp\", ascending=False).reset_index(drop=True)\n",
    "    df[\"rgb\"] = df[\"pixel_color\"].apply(lambda x: matplotlib.colors.to_rgb(x))\n",
    "\n",
    "    return df"
   ]
  },
  {
   "cell_type": "code",
   "execution_count": 5,
   "metadata": {},
   "outputs": [],
   "source": [
    "def merge_datasets(files: str, to_csv_all=False, to_csv_step=False, to_csv_each=False):\n",
    "    df_main = pd.DataFrame()\n",
    "\n",
    "    for i in range(len(files)):\n",
    "        print(f\"Adding {files[i]} ({i / len(files) * 100}%)\")\n",
    "        \n",
    "        filename = os.path.basename(files[i])\n",
    "        df = open_dataset(files[i])\n",
    "\n",
    "        if to_csv_all or to_csv_step:\n",
    "            df_main = df_main.append(df)\n",
    "            df_main = df_main.sort_values(by=\"timestamp\", ascending=False).reset_index(drop=True)\n",
    "\n",
    "        if to_csv_step:\n",
    "            path = os.path.join(dest_path, \"steps\", filename)\n",
    "            print(f\"Saving step: {path}\")\n",
    "            df_main.to_csv(path)\n",
    "\n",
    "        if to_csv_each:\n",
    "            path = os.path.join(dest_path, \"processed\", filename)\n",
    "            print(f\"Saving processed: {path}\")\n",
    "            df.to_csv(path)\n",
    "\n",
    "    df_main = df_main.sort_values(by=\"timestamp\", ascending=False).reset_index(drop=True)\n",
    "\n",
    "    if to_csv_all:\n",
    "        path = os.path.join(dest_path, \"all.csv\")\n",
    "        print(f\"Saving all: {path}\")\n",
    "        df_main.to_csv(path)\n",
    "\n",
    "    return df_main"
   ]
  },
  {
   "cell_type": "code",
   "execution_count": 6,
   "metadata": {},
   "outputs": [
    {
     "name": "stdout",
     "output_type": "stream",
     "text": [
      "Adding /Volumes/owen/datas/rplace/2022_place_canvas_history-000000000057.csv (0.0%)\n",
      "Saving processed: /Volumes/owen/datas/rplace/processed/2022_place_canvas_history-000000000057.csv\n",
      "Adding /Volumes/owen/datas/rplace/2022_place_canvas_history-000000000058.csv (4.545454545454546%)\n",
      "Saving processed: /Volumes/owen/datas/rplace/processed/2022_place_canvas_history-000000000058.csv\n",
      "Adding /Volumes/owen/datas/rplace/2022_place_canvas_history-000000000059.csv (9.090909090909092%)\n",
      "Saving processed: /Volumes/owen/datas/rplace/processed/2022_place_canvas_history-000000000059.csv\n",
      "Adding /Volumes/owen/datas/rplace/2022_place_canvas_history-000000000060.csv (13.636363636363635%)\n",
      "Saving processed: /Volumes/owen/datas/rplace/processed/2022_place_canvas_history-000000000060.csv\n",
      "Adding /Volumes/owen/datas/rplace/2022_place_canvas_history-000000000061.csv (18.181818181818183%)\n",
      "Saving processed: /Volumes/owen/datas/rplace/processed/2022_place_canvas_history-000000000061.csv\n",
      "Adding /Volumes/owen/datas/rplace/2022_place_canvas_history-000000000062.csv (22.727272727272727%)\n",
      "Saving processed: /Volumes/owen/datas/rplace/processed/2022_place_canvas_history-000000000062.csv\n",
      "Adding /Volumes/owen/datas/rplace/2022_place_canvas_history-000000000063.csv (27.27272727272727%)\n",
      "Saving processed: /Volumes/owen/datas/rplace/processed/2022_place_canvas_history-000000000063.csv\n",
      "Adding /Volumes/owen/datas/rplace/2022_place_canvas_history-000000000064.csv (31.818181818181817%)\n",
      "Saving processed: /Volumes/owen/datas/rplace/processed/2022_place_canvas_history-000000000064.csv\n",
      "Adding /Volumes/owen/datas/rplace/2022_place_canvas_history-000000000065.csv (36.36363636363637%)\n",
      "Saving processed: /Volumes/owen/datas/rplace/processed/2022_place_canvas_history-000000000065.csv\n",
      "Adding /Volumes/owen/datas/rplace/2022_place_canvas_history-000000000066.csv (40.909090909090914%)\n",
      "Saving processed: /Volumes/owen/datas/rplace/processed/2022_place_canvas_history-000000000066.csv\n",
      "Adding /Volumes/owen/datas/rplace/2022_place_canvas_history-000000000067.csv (45.45454545454545%)\n",
      "Saving processed: /Volumes/owen/datas/rplace/processed/2022_place_canvas_history-000000000067.csv\n",
      "Adding /Volumes/owen/datas/rplace/2022_place_canvas_history-000000000068.csv (50.0%)\n",
      "Saving processed: /Volumes/owen/datas/rplace/processed/2022_place_canvas_history-000000000068.csv\n",
      "Adding /Volumes/owen/datas/rplace/2022_place_canvas_history-000000000069.csv (54.54545454545454%)\n",
      "Saving processed: /Volumes/owen/datas/rplace/processed/2022_place_canvas_history-000000000069.csv\n",
      "Adding /Volumes/owen/datas/rplace/2022_place_canvas_history-000000000070.csv (59.09090909090909%)\n",
      "Saving processed: /Volumes/owen/datas/rplace/processed/2022_place_canvas_history-000000000070.csv\n",
      "Adding /Volumes/owen/datas/rplace/2022_place_canvas_history-000000000071.csv (63.63636363636363%)\n",
      "Saving processed: /Volumes/owen/datas/rplace/processed/2022_place_canvas_history-000000000071.csv\n",
      "Adding /Volumes/owen/datas/rplace/2022_place_canvas_history-000000000072.csv (68.18181818181817%)\n",
      "Saving processed: /Volumes/owen/datas/rplace/processed/2022_place_canvas_history-000000000072.csv\n",
      "Adding /Volumes/owen/datas/rplace/2022_place_canvas_history-000000000073.csv (72.72727272727273%)\n",
      "Saving processed: /Volumes/owen/datas/rplace/processed/2022_place_canvas_history-000000000073.csv\n",
      "Adding /Volumes/owen/datas/rplace/2022_place_canvas_history-000000000074.csv (77.27272727272727%)\n",
      "Saving processed: /Volumes/owen/datas/rplace/processed/2022_place_canvas_history-000000000074.csv\n",
      "Adding /Volumes/owen/datas/rplace/2022_place_canvas_history-000000000075.csv (81.81818181818183%)\n",
      "Saving processed: /Volumes/owen/datas/rplace/processed/2022_place_canvas_history-000000000075.csv\n",
      "Adding /Volumes/owen/datas/rplace/2022_place_canvas_history-000000000076.csv (86.36363636363636%)\n",
      "Saving processed: /Volumes/owen/datas/rplace/processed/2022_place_canvas_history-000000000076.csv\n",
      "Adding /Volumes/owen/datas/rplace/2022_place_canvas_history-000000000077.csv (90.9090909090909%)\n",
      "Saving processed: /Volumes/owen/datas/rplace/processed/2022_place_canvas_history-000000000077.csv\n",
      "Adding /Volumes/owen/datas/rplace/2022_place_canvas_history-000000000078.csv (95.45454545454545%)\n",
      "Saving processed: /Volumes/owen/datas/rplace/processed/2022_place_canvas_history-000000000078.csv\n"
     ]
    },
    {
     "ename": "KeyError",
     "evalue": "'timestamp'",
     "output_type": "error",
     "traceback": [
      "\u001b[0;31m---------------------------------------------------------------------------\u001b[0m",
      "\u001b[0;31mKeyError\u001b[0m                                  Traceback (most recent call last)",
      "\u001b[0;32m/var/folders/jy/ts_mdpfs04d36f2cz44nqbl00000gn/T/ipykernel_39787/1073556842.py\u001b[0m in \u001b[0;36m<module>\u001b[0;34m\u001b[0m\n\u001b[0;32m----> 1\u001b[0;31m \u001b[0mdf\u001b[0m \u001b[0;34m=\u001b[0m \u001b[0mmerge_datasets\u001b[0m\u001b[0;34m(\u001b[0m\u001b[0mfiles\u001b[0m\u001b[0;34m[\u001b[0m\u001b[0;36m57\u001b[0m\u001b[0;34m:\u001b[0m\u001b[0;34m]\u001b[0m\u001b[0;34m,\u001b[0m \u001b[0;32mFalse\u001b[0m\u001b[0;34m,\u001b[0m \u001b[0;32mFalse\u001b[0m\u001b[0;34m,\u001b[0m \u001b[0;32mTrue\u001b[0m\u001b[0;34m)\u001b[0m\u001b[0;34m\u001b[0m\u001b[0;34m\u001b[0m\u001b[0m\n\u001b[0m\u001b[1;32m      2\u001b[0m \u001b[0mdf\u001b[0m\u001b[0;34m\u001b[0m\u001b[0;34m\u001b[0m\u001b[0m\n",
      "\u001b[0;32m/var/folders/jy/ts_mdpfs04d36f2cz44nqbl00000gn/T/ipykernel_39787/1601791962.py\u001b[0m in \u001b[0;36mmerge_datasets\u001b[0;34m(files, to_csv_all, to_csv_step, to_csv_each)\u001b[0m\n\u001b[1;32m     22\u001b[0m             \u001b[0mdf\u001b[0m\u001b[0;34m.\u001b[0m\u001b[0mto_csv\u001b[0m\u001b[0;34m(\u001b[0m\u001b[0mpath\u001b[0m\u001b[0;34m)\u001b[0m\u001b[0;34m\u001b[0m\u001b[0;34m\u001b[0m\u001b[0m\n\u001b[1;32m     23\u001b[0m \u001b[0;34m\u001b[0m\u001b[0m\n\u001b[0;32m---> 24\u001b[0;31m     \u001b[0mdf_main\u001b[0m \u001b[0;34m=\u001b[0m \u001b[0mdf_main\u001b[0m\u001b[0;34m.\u001b[0m\u001b[0msort_values\u001b[0m\u001b[0;34m(\u001b[0m\u001b[0mby\u001b[0m\u001b[0;34m=\u001b[0m\u001b[0;34m\"timestamp\"\u001b[0m\u001b[0;34m,\u001b[0m \u001b[0mascending\u001b[0m\u001b[0;34m=\u001b[0m\u001b[0;32mFalse\u001b[0m\u001b[0;34m)\u001b[0m\u001b[0;34m.\u001b[0m\u001b[0mreset_index\u001b[0m\u001b[0;34m(\u001b[0m\u001b[0mdrop\u001b[0m\u001b[0;34m=\u001b[0m\u001b[0;32mTrue\u001b[0m\u001b[0;34m)\u001b[0m\u001b[0;34m\u001b[0m\u001b[0;34m\u001b[0m\u001b[0m\n\u001b[0m\u001b[1;32m     25\u001b[0m \u001b[0;34m\u001b[0m\u001b[0m\n\u001b[1;32m     26\u001b[0m     \u001b[0;32mif\u001b[0m \u001b[0mto_csv_all\u001b[0m\u001b[0;34m:\u001b[0m\u001b[0;34m\u001b[0m\u001b[0;34m\u001b[0m\u001b[0m\n",
      "\u001b[0;32m~/opt/anaconda3/lib/python3.9/site-packages/pandas/util/_decorators.py\u001b[0m in \u001b[0;36mwrapper\u001b[0;34m(*args, **kwargs)\u001b[0m\n\u001b[1;32m    309\u001b[0m                     \u001b[0mstacklevel\u001b[0m\u001b[0;34m=\u001b[0m\u001b[0mstacklevel\u001b[0m\u001b[0;34m,\u001b[0m\u001b[0;34m\u001b[0m\u001b[0;34m\u001b[0m\u001b[0m\n\u001b[1;32m    310\u001b[0m                 )\n\u001b[0;32m--> 311\u001b[0;31m             \u001b[0;32mreturn\u001b[0m \u001b[0mfunc\u001b[0m\u001b[0;34m(\u001b[0m\u001b[0;34m*\u001b[0m\u001b[0margs\u001b[0m\u001b[0;34m,\u001b[0m \u001b[0;34m**\u001b[0m\u001b[0mkwargs\u001b[0m\u001b[0;34m)\u001b[0m\u001b[0;34m\u001b[0m\u001b[0;34m\u001b[0m\u001b[0m\n\u001b[0m\u001b[1;32m    312\u001b[0m \u001b[0;34m\u001b[0m\u001b[0m\n\u001b[1;32m    313\u001b[0m         \u001b[0;32mreturn\u001b[0m \u001b[0mwrapper\u001b[0m\u001b[0;34m\u001b[0m\u001b[0;34m\u001b[0m\u001b[0m\n",
      "\u001b[0;32m~/opt/anaconda3/lib/python3.9/site-packages/pandas/core/frame.py\u001b[0m in \u001b[0;36msort_values\u001b[0;34m(self, by, axis, ascending, inplace, kind, na_position, ignore_index, key)\u001b[0m\n\u001b[1;32m   6257\u001b[0m \u001b[0;34m\u001b[0m\u001b[0m\n\u001b[1;32m   6258\u001b[0m             \u001b[0mby\u001b[0m \u001b[0;34m=\u001b[0m \u001b[0mby\u001b[0m\u001b[0;34m[\u001b[0m\u001b[0;36m0\u001b[0m\u001b[0;34m]\u001b[0m\u001b[0;34m\u001b[0m\u001b[0;34m\u001b[0m\u001b[0m\n\u001b[0;32m-> 6259\u001b[0;31m             \u001b[0mk\u001b[0m \u001b[0;34m=\u001b[0m \u001b[0mself\u001b[0m\u001b[0;34m.\u001b[0m\u001b[0m_get_label_or_level_values\u001b[0m\u001b[0;34m(\u001b[0m\u001b[0mby\u001b[0m\u001b[0;34m,\u001b[0m \u001b[0maxis\u001b[0m\u001b[0;34m=\u001b[0m\u001b[0maxis\u001b[0m\u001b[0;34m)\u001b[0m\u001b[0;34m\u001b[0m\u001b[0;34m\u001b[0m\u001b[0m\n\u001b[0m\u001b[1;32m   6260\u001b[0m \u001b[0;34m\u001b[0m\u001b[0m\n\u001b[1;32m   6261\u001b[0m             \u001b[0;31m# need to rewrap column in Series to apply key function\u001b[0m\u001b[0;34m\u001b[0m\u001b[0;34m\u001b[0m\u001b[0m\n",
      "\u001b[0;32m~/opt/anaconda3/lib/python3.9/site-packages/pandas/core/generic.py\u001b[0m in \u001b[0;36m_get_label_or_level_values\u001b[0;34m(self, key, axis)\u001b[0m\n\u001b[1;32m   1777\u001b[0m             \u001b[0mvalues\u001b[0m \u001b[0;34m=\u001b[0m \u001b[0mself\u001b[0m\u001b[0;34m.\u001b[0m\u001b[0maxes\u001b[0m\u001b[0;34m[\u001b[0m\u001b[0maxis\u001b[0m\u001b[0;34m]\u001b[0m\u001b[0;34m.\u001b[0m\u001b[0mget_level_values\u001b[0m\u001b[0;34m(\u001b[0m\u001b[0mkey\u001b[0m\u001b[0;34m)\u001b[0m\u001b[0;34m.\u001b[0m\u001b[0m_values\u001b[0m\u001b[0;34m\u001b[0m\u001b[0;34m\u001b[0m\u001b[0m\n\u001b[1;32m   1778\u001b[0m         \u001b[0;32melse\u001b[0m\u001b[0;34m:\u001b[0m\u001b[0;34m\u001b[0m\u001b[0;34m\u001b[0m\u001b[0m\n\u001b[0;32m-> 1779\u001b[0;31m             \u001b[0;32mraise\u001b[0m \u001b[0mKeyError\u001b[0m\u001b[0;34m(\u001b[0m\u001b[0mkey\u001b[0m\u001b[0;34m)\u001b[0m\u001b[0;34m\u001b[0m\u001b[0;34m\u001b[0m\u001b[0m\n\u001b[0m\u001b[1;32m   1780\u001b[0m \u001b[0;34m\u001b[0m\u001b[0m\n\u001b[1;32m   1781\u001b[0m         \u001b[0;31m# Check for duplicates\u001b[0m\u001b[0;34m\u001b[0m\u001b[0;34m\u001b[0m\u001b[0m\n",
      "\u001b[0;31mKeyError\u001b[0m: 'timestamp'"
     ]
    }
   ],
   "source": [
    "df = merge_datasets(files[57:], False, False, True)\n",
    "df"
   ]
  }
 ],
 "metadata": {
  "kernelspec": {
   "display_name": "Python 3.9.7 ('base')",
   "language": "python",
   "name": "python3"
  },
  "language_info": {
   "codemirror_mode": {
    "name": "ipython",
    "version": 3
   },
   "file_extension": ".py",
   "mimetype": "text/x-python",
   "name": "python",
   "nbconvert_exporter": "python",
   "pygments_lexer": "ipython3",
   "version": "3.9.7"
  },
  "orig_nbformat": 4,
  "vscode": {
   "interpreter": {
    "hash": "c630b349f7183e9a5f9274d889fc3e15c392ce12037771bccbc1917471fc634b"
   }
  }
 },
 "nbformat": 4,
 "nbformat_minor": 2
}
