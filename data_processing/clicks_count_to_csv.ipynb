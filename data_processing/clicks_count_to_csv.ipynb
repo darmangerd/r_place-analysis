{
 "cells": [
  {
   "cell_type": "markdown",
   "metadata": {},
   "source": [
    "# Imports"
   ]
  },
  {
   "cell_type": "code",
   "execution_count": 48,
   "metadata": {
    "collapsed": true,
    "pycharm": {
     "name": "#%%\n"
    }
   },
   "outputs": [],
   "source": [
    "import pandas as pd\n",
    "import numpy as np\n",
    "import os\n",
    "from glob import glob\n",
    "from typing import List"
   ]
  },
  {
   "cell_type": "markdown",
   "metadata": {},
   "source": [
    "# Files"
   ]
  },
  {
   "cell_type": "code",
   "execution_count": null,
   "metadata": {},
   "outputs": [],
   "source": [
    "src_path = os.path.join(\"/\", \"Volumes\", \"owen\", \"datas\", \"rplace\")\n",
    "src_glob = os.path.join(src_path, \"2022_place_canvas_history-*.csv\")\n",
    "dest_path = os.path.join(src_path)"
   ]
  },
  {
   "cell_type": "code",
   "execution_count": 56,
   "metadata": {},
   "outputs": [
    {
     "data": {
      "text/plain": [
       "['/Volumes/owen/datas/rplace/2022_place_canvas_history-000000000000.csv',\n",
       " '/Volumes/owen/datas/rplace/2022_place_canvas_history-000000000001.csv',\n",
       " '/Volumes/owen/datas/rplace/2022_place_canvas_history-000000000052.csv',\n",
       " '/Volumes/owen/datas/rplace/2022_place_canvas_history-000000000002.csv',\n",
       " '/Volumes/owen/datas/rplace/2022_place_canvas_history-000000000003.csv',\n",
       " '/Volumes/owen/datas/rplace/2022_place_canvas_history-000000000004.csv',\n",
       " '/Volumes/owen/datas/rplace/2022_place_canvas_history-000000000005.csv',\n",
       " '/Volumes/owen/datas/rplace/2022_place_canvas_history-000000000006.csv',\n",
       " '/Volumes/owen/datas/rplace/2022_place_canvas_history-000000000007.csv',\n",
       " '/Volumes/owen/datas/rplace/2022_place_canvas_history-000000000008.csv',\n",
       " '/Volumes/owen/datas/rplace/2022_place_canvas_history-000000000009.csv',\n",
       " '/Volumes/owen/datas/rplace/2022_place_canvas_history-000000000010.csv',\n",
       " '/Volumes/owen/datas/rplace/2022_place_canvas_history-000000000013.csv',\n",
       " '/Volumes/owen/datas/rplace/2022_place_canvas_history-000000000011.csv',\n",
       " '/Volumes/owen/datas/rplace/2022_place_canvas_history-000000000012.csv',\n",
       " '/Volumes/owen/datas/rplace/2022_place_canvas_history-000000000014.csv',\n",
       " '/Volumes/owen/datas/rplace/2022_place_canvas_history-000000000017.csv',\n",
       " '/Volumes/owen/datas/rplace/2022_place_canvas_history-000000000015.csv',\n",
       " '/Volumes/owen/datas/rplace/2022_place_canvas_history-000000000016.csv',\n",
       " '/Volumes/owen/datas/rplace/2022_place_canvas_history-000000000018.csv',\n",
       " '/Volumes/owen/datas/rplace/2022_place_canvas_history-000000000021.csv',\n",
       " '/Volumes/owen/datas/rplace/2022_place_canvas_history-000000000019.csv',\n",
       " '/Volumes/owen/datas/rplace/2022_place_canvas_history-000000000020.csv',\n",
       " '/Volumes/owen/datas/rplace/2022_place_canvas_history-000000000022.csv',\n",
       " '/Volumes/owen/datas/rplace/2022_place_canvas_history-000000000023.csv',\n",
       " '/Volumes/owen/datas/rplace/2022_place_canvas_history-000000000024.csv',\n",
       " '/Volumes/owen/datas/rplace/2022_place_canvas_history-000000000025.csv',\n",
       " '/Volumes/owen/datas/rplace/2022_place_canvas_history-000000000026.csv',\n",
       " '/Volumes/owen/datas/rplace/2022_place_canvas_history-000000000027.csv',\n",
       " '/Volumes/owen/datas/rplace/2022_place_canvas_history-000000000029.csv',\n",
       " '/Volumes/owen/datas/rplace/2022_place_canvas_history-000000000028.csv',\n",
       " '/Volumes/owen/datas/rplace/2022_place_canvas_history-000000000030.csv',\n",
       " '/Volumes/owen/datas/rplace/2022_place_canvas_history-000000000031.csv',\n",
       " '/Volumes/owen/datas/rplace/2022_place_canvas_history-000000000032.csv',\n",
       " '/Volumes/owen/datas/rplace/2022_place_canvas_history-000000000033.csv',\n",
       " '/Volumes/owen/datas/rplace/2022_place_canvas_history-000000000034.csv',\n",
       " '/Volumes/owen/datas/rplace/2022_place_canvas_history-000000000035.csv',\n",
       " '/Volumes/owen/datas/rplace/2022_place_canvas_history-000000000036.csv',\n",
       " '/Volumes/owen/datas/rplace/2022_place_canvas_history-000000000037.csv',\n",
       " '/Volumes/owen/datas/rplace/2022_place_canvas_history-000000000038.csv',\n",
       " '/Volumes/owen/datas/rplace/2022_place_canvas_history-000000000040.csv',\n",
       " '/Volumes/owen/datas/rplace/2022_place_canvas_history-000000000039.csv',\n",
       " '/Volumes/owen/datas/rplace/2022_place_canvas_history-000000000041.csv',\n",
       " '/Volumes/owen/datas/rplace/2022_place_canvas_history-000000000042.csv',\n",
       " '/Volumes/owen/datas/rplace/2022_place_canvas_history-000000000043.csv',\n",
       " '/Volumes/owen/datas/rplace/2022_place_canvas_history-000000000044.csv',\n",
       " '/Volumes/owen/datas/rplace/2022_place_canvas_history-000000000045.csv',\n",
       " '/Volumes/owen/datas/rplace/2022_place_canvas_history-000000000046.csv',\n",
       " '/Volumes/owen/datas/rplace/2022_place_canvas_history-000000000047.csv',\n",
       " '/Volumes/owen/datas/rplace/2022_place_canvas_history-000000000048.csv',\n",
       " '/Volumes/owen/datas/rplace/2022_place_canvas_history-000000000049.csv',\n",
       " '/Volumes/owen/datas/rplace/2022_place_canvas_history-000000000050.csv',\n",
       " '/Volumes/owen/datas/rplace/2022_place_canvas_history-000000000053.csv',\n",
       " '/Volumes/owen/datas/rplace/2022_place_canvas_history-000000000051.csv',\n",
       " '/Volumes/owen/datas/rplace/2022_place_canvas_history-000000000055.csv',\n",
       " '/Volumes/owen/datas/rplace/2022_place_canvas_history-000000000054.csv',\n",
       " '/Volumes/owen/datas/rplace/2022_place_canvas_history-000000000056.csv',\n",
       " '/Volumes/owen/datas/rplace/2022_place_canvas_history-000000000057.csv',\n",
       " '/Volumes/owen/datas/rplace/2022_place_canvas_history-000000000059.csv',\n",
       " '/Volumes/owen/datas/rplace/2022_place_canvas_history-000000000058.csv',\n",
       " '/Volumes/owen/datas/rplace/2022_place_canvas_history-000000000061.csv',\n",
       " '/Volumes/owen/datas/rplace/2022_place_canvas_history-000000000060.csv',\n",
       " '/Volumes/owen/datas/rplace/2022_place_canvas_history-000000000062.csv',\n",
       " '/Volumes/owen/datas/rplace/2022_place_canvas_history-000000000063.csv',\n",
       " '/Volumes/owen/datas/rplace/2022_place_canvas_history-000000000064.csv',\n",
       " '/Volumes/owen/datas/rplace/2022_place_canvas_history-000000000065.csv',\n",
       " '/Volumes/owen/datas/rplace/2022_place_canvas_history-000000000066.csv',\n",
       " '/Volumes/owen/datas/rplace/2022_place_canvas_history-000000000067.csv',\n",
       " '/Volumes/owen/datas/rplace/2022_place_canvas_history-000000000068.csv',\n",
       " '/Volumes/owen/datas/rplace/2022_place_canvas_history-000000000070.csv',\n",
       " '/Volumes/owen/datas/rplace/2022_place_canvas_history-000000000069.csv',\n",
       " '/Volumes/owen/datas/rplace/2022_place_canvas_history-000000000071.csv',\n",
       " '/Volumes/owen/datas/rplace/2022_place_canvas_history-000000000072.csv',\n",
       " '/Volumes/owen/datas/rplace/2022_place_canvas_history-000000000073.csv',\n",
       " '/Volumes/owen/datas/rplace/2022_place_canvas_history-000000000074.csv',\n",
       " '/Volumes/owen/datas/rplace/2022_place_canvas_history-000000000075.csv',\n",
       " '/Volumes/owen/datas/rplace/2022_place_canvas_history-000000000076.csv',\n",
       " '/Volumes/owen/datas/rplace/2022_place_canvas_history-000000000077.csv',\n",
       " '/Volumes/owen/datas/rplace/2022_place_canvas_history-000000000078.csv']"
      ]
     },
     "execution_count": 56,
     "metadata": {},
     "output_type": "execute_result"
    }
   ],
   "source": [
    "files = glob(src_glob)\n",
    "files"
   ]
  },
  {
   "cell_type": "markdown",
   "metadata": {},
   "source": [
    "# Data processing"
   ]
  },
  {
   "cell_type": "code",
   "execution_count": 50,
   "metadata": {},
   "outputs": [],
   "source": [
    "def count_clicks(filename: str):\n",
    "    df_place = pd.read_csv(filename)\n",
    "    df_place.reset_index(inplace=True)\n",
    "    df_pixel_click_count = df_place.groupby(\"coordinate\").count()\n",
    "    return df_pixel_click_count[[\"index\"]].rename({\"index\": \"count\"}, axis=1)"
   ]
  },
  {
   "cell_type": "code",
   "execution_count": 51,
   "metadata": {},
   "outputs": [],
   "source": [
    "def merge_count_clicks(files: List[str]):\n",
    "    df: pd.DataFrame = count_clicks(files[0])\n",
    "\n",
    "    for i in range(1, len(files)):\n",
    "        print(f\"Adding {files[i]} ({i / len(files) * 100}%)\")\n",
    "        df_to_add = count_clicks(files[i])\n",
    "        df = df.add(df_to_add, fill_value=1)\n",
    "    \n",
    "    return df.sort_values(\"index\", ascending=False)"
   ]
  },
  {
   "cell_type": "code",
   "execution_count": 52,
   "metadata": {},
   "outputs": [
    {
     "name": "stdout",
     "output_type": "stream",
     "text": [
      "Adding /Volumes/owen/datas/rplace/2022_place_canvas_history-000000000001.csv (1.2658227848101267%)\n",
      "Adding /Volumes/owen/datas/rplace/2022_place_canvas_history-000000000052.csv (2.5316455696202533%)\n",
      "Adding /Volumes/owen/datas/rplace/2022_place_canvas_history-000000000002.csv (3.79746835443038%)\n",
      "Adding /Volumes/owen/datas/rplace/2022_place_canvas_history-000000000003.csv (5.063291139240507%)\n",
      "Adding /Volumes/owen/datas/rplace/2022_place_canvas_history-000000000004.csv (6.329113924050633%)\n",
      "Adding /Volumes/owen/datas/rplace/2022_place_canvas_history-000000000005.csv (7.59493670886076%)\n",
      "Adding /Volumes/owen/datas/rplace/2022_place_canvas_history-000000000006.csv (8.860759493670885%)\n",
      "Adding /Volumes/owen/datas/rplace/2022_place_canvas_history-000000000007.csv (10.126582278481013%)\n",
      "Adding /Volumes/owen/datas/rplace/2022_place_canvas_history-000000000008.csv (11.39240506329114%)\n",
      "Adding /Volumes/owen/datas/rplace/2022_place_canvas_history-000000000009.csv (12.658227848101266%)\n",
      "Adding /Volumes/owen/datas/rplace/2022_place_canvas_history-000000000010.csv (13.924050632911392%)\n",
      "Adding /Volumes/owen/datas/rplace/2022_place_canvas_history-000000000013.csv (15.18987341772152%)\n",
      "Adding /Volumes/owen/datas/rplace/2022_place_canvas_history-000000000011.csv (16.455696202531644%)\n",
      "Adding /Volumes/owen/datas/rplace/2022_place_canvas_history-000000000012.csv (17.72151898734177%)\n",
      "Adding /Volumes/owen/datas/rplace/2022_place_canvas_history-000000000014.csv (18.9873417721519%)\n",
      "Adding /Volumes/owen/datas/rplace/2022_place_canvas_history-000000000017.csv (20.253164556962027%)\n",
      "Adding /Volumes/owen/datas/rplace/2022_place_canvas_history-000000000015.csv (21.518987341772153%)\n",
      "Adding /Volumes/owen/datas/rplace/2022_place_canvas_history-000000000016.csv (22.78481012658228%)\n",
      "Adding /Volumes/owen/datas/rplace/2022_place_canvas_history-000000000018.csv (24.050632911392405%)\n",
      "Adding /Volumes/owen/datas/rplace/2022_place_canvas_history-000000000021.csv (25.31645569620253%)\n",
      "Adding /Volumes/owen/datas/rplace/2022_place_canvas_history-000000000019.csv (26.582278481012654%)\n",
      "Adding /Volumes/owen/datas/rplace/2022_place_canvas_history-000000000020.csv (27.848101265822784%)\n",
      "Adding /Volumes/owen/datas/rplace/2022_place_canvas_history-000000000022.csv (29.11392405063291%)\n",
      "Adding /Volumes/owen/datas/rplace/2022_place_canvas_history-000000000023.csv (30.37974683544304%)\n",
      "Adding /Volumes/owen/datas/rplace/2022_place_canvas_history-000000000024.csv (31.645569620253166%)\n",
      "Adding /Volumes/owen/datas/rplace/2022_place_canvas_history-000000000025.csv (32.91139240506329%)\n",
      "Adding /Volumes/owen/datas/rplace/2022_place_canvas_history-000000000026.csv (34.177215189873415%)\n",
      "Adding /Volumes/owen/datas/rplace/2022_place_canvas_history-000000000027.csv (35.44303797468354%)\n",
      "Adding /Volumes/owen/datas/rplace/2022_place_canvas_history-000000000029.csv (36.708860759493675%)\n",
      "Adding /Volumes/owen/datas/rplace/2022_place_canvas_history-000000000028.csv (37.9746835443038%)\n",
      "Adding /Volumes/owen/datas/rplace/2022_place_canvas_history-000000000030.csv (39.24050632911392%)\n",
      "Adding /Volumes/owen/datas/rplace/2022_place_canvas_history-000000000031.csv (40.50632911392405%)\n",
      "Adding /Volumes/owen/datas/rplace/2022_place_canvas_history-000000000032.csv (41.77215189873418%)\n",
      "Adding /Volumes/owen/datas/rplace/2022_place_canvas_history-000000000033.csv (43.037974683544306%)\n",
      "Adding /Volumes/owen/datas/rplace/2022_place_canvas_history-000000000034.csv (44.303797468354425%)\n",
      "Adding /Volumes/owen/datas/rplace/2022_place_canvas_history-000000000035.csv (45.56962025316456%)\n",
      "Adding /Volumes/owen/datas/rplace/2022_place_canvas_history-000000000036.csv (46.835443037974684%)\n",
      "Adding /Volumes/owen/datas/rplace/2022_place_canvas_history-000000000037.csv (48.10126582278481%)\n",
      "Adding /Volumes/owen/datas/rplace/2022_place_canvas_history-000000000038.csv (49.36708860759494%)\n",
      "Adding /Volumes/owen/datas/rplace/2022_place_canvas_history-000000000040.csv (50.63291139240506%)\n",
      "Adding /Volumes/owen/datas/rplace/2022_place_canvas_history-000000000039.csv (51.89873417721519%)\n",
      "Adding /Volumes/owen/datas/rplace/2022_place_canvas_history-000000000041.csv (53.16455696202531%)\n",
      "Adding /Volumes/owen/datas/rplace/2022_place_canvas_history-000000000042.csv (54.43037974683544%)\n",
      "Adding /Volumes/owen/datas/rplace/2022_place_canvas_history-000000000043.csv (55.69620253164557%)\n",
      "Adding /Volumes/owen/datas/rplace/2022_place_canvas_history-000000000044.csv (56.9620253164557%)\n",
      "Adding /Volumes/owen/datas/rplace/2022_place_canvas_history-000000000045.csv (58.22784810126582%)\n",
      "Adding /Volumes/owen/datas/rplace/2022_place_canvas_history-000000000046.csv (59.49367088607595%)\n",
      "Adding /Volumes/owen/datas/rplace/2022_place_canvas_history-000000000047.csv (60.75949367088608%)\n",
      "Adding /Volumes/owen/datas/rplace/2022_place_canvas_history-000000000048.csv (62.0253164556962%)\n",
      "Adding /Volumes/owen/datas/rplace/2022_place_canvas_history-000000000049.csv (63.29113924050633%)\n",
      "Adding /Volumes/owen/datas/rplace/2022_place_canvas_history-000000000050.csv (64.55696202531645%)\n",
      "Adding /Volumes/owen/datas/rplace/2022_place_canvas_history-000000000053.csv (65.82278481012658%)\n",
      "Adding /Volumes/owen/datas/rplace/2022_place_canvas_history-000000000051.csv (67.08860759493672%)\n",
      "Adding /Volumes/owen/datas/rplace/2022_place_canvas_history-000000000055.csv (68.35443037974683%)\n",
      "Adding /Volumes/owen/datas/rplace/2022_place_canvas_history-000000000054.csv (69.62025316455697%)\n",
      "Adding /Volumes/owen/datas/rplace/2022_place_canvas_history-000000000056.csv (70.88607594936708%)\n",
      "Adding /Volumes/owen/datas/rplace/2022_place_canvas_history-000000000057.csv (72.15189873417721%)\n",
      "Adding /Volumes/owen/datas/rplace/2022_place_canvas_history-000000000059.csv (73.41772151898735%)\n",
      "Adding /Volumes/owen/datas/rplace/2022_place_canvas_history-000000000058.csv (74.68354430379746%)\n",
      "Adding /Volumes/owen/datas/rplace/2022_place_canvas_history-000000000061.csv (75.9493670886076%)\n",
      "Adding /Volumes/owen/datas/rplace/2022_place_canvas_history-000000000060.csv (77.21518987341773%)\n",
      "Adding /Volumes/owen/datas/rplace/2022_place_canvas_history-000000000062.csv (78.48101265822784%)\n",
      "Adding /Volumes/owen/datas/rplace/2022_place_canvas_history-000000000063.csv (79.74683544303798%)\n",
      "Adding /Volumes/owen/datas/rplace/2022_place_canvas_history-000000000064.csv (81.0126582278481%)\n",
      "Adding /Volumes/owen/datas/rplace/2022_place_canvas_history-000000000065.csv (82.27848101265823%)\n",
      "Adding /Volumes/owen/datas/rplace/2022_place_canvas_history-000000000066.csv (83.54430379746836%)\n",
      "Adding /Volumes/owen/datas/rplace/2022_place_canvas_history-000000000067.csv (84.81012658227847%)\n",
      "Adding /Volumes/owen/datas/rplace/2022_place_canvas_history-000000000068.csv (86.07594936708861%)\n",
      "Adding /Volumes/owen/datas/rplace/2022_place_canvas_history-000000000070.csv (87.34177215189874%)\n",
      "Adding /Volumes/owen/datas/rplace/2022_place_canvas_history-000000000069.csv (88.60759493670885%)\n",
      "Adding /Volumes/owen/datas/rplace/2022_place_canvas_history-000000000071.csv (89.87341772151899%)\n",
      "Adding /Volumes/owen/datas/rplace/2022_place_canvas_history-000000000072.csv (91.13924050632912%)\n",
      "Adding /Volumes/owen/datas/rplace/2022_place_canvas_history-000000000073.csv (92.40506329113924%)\n",
      "Adding /Volumes/owen/datas/rplace/2022_place_canvas_history-000000000074.csv (93.67088607594937%)\n",
      "Adding /Volumes/owen/datas/rplace/2022_place_canvas_history-000000000075.csv (94.9367088607595%)\n",
      "Adding /Volumes/owen/datas/rplace/2022_place_canvas_history-000000000076.csv (96.20253164556962%)\n",
      "Adding /Volumes/owen/datas/rplace/2022_place_canvas_history-000000000077.csv (97.46835443037975%)\n",
      "Adding /Volumes/owen/datas/rplace/2022_place_canvas_history-000000000078.csv (98.73417721518987%)\n"
     ]
    },
    {
     "data": {
      "text/html": [
       "<div>\n",
       "<style scoped>\n",
       "    .dataframe tbody tr th:only-of-type {\n",
       "        vertical-align: middle;\n",
       "    }\n",
       "\n",
       "    .dataframe tbody tr th {\n",
       "        vertical-align: top;\n",
       "    }\n",
       "\n",
       "    .dataframe thead th {\n",
       "        text-align: right;\n",
       "    }\n",
       "</style>\n",
       "<table border=\"1\" class=\"dataframe\">\n",
       "  <thead>\n",
       "    <tr style=\"text-align: right;\">\n",
       "      <th></th>\n",
       "      <th>index</th>\n",
       "      <th>timestamp</th>\n",
       "      <th>user_id</th>\n",
       "      <th>pixel_color</th>\n",
       "    </tr>\n",
       "    <tr>\n",
       "      <th>coordinate</th>\n",
       "      <th></th>\n",
       "      <th></th>\n",
       "      <th></th>\n",
       "      <th></th>\n",
       "    </tr>\n",
       "  </thead>\n",
       "  <tbody>\n",
       "    <tr>\n",
       "      <th>0,0</th>\n",
       "      <td>98807.0</td>\n",
       "      <td>98807.0</td>\n",
       "      <td>98807.0</td>\n",
       "      <td>98807.0</td>\n",
       "    </tr>\n",
       "    <tr>\n",
       "      <th>0,1</th>\n",
       "      <td>9592.0</td>\n",
       "      <td>9592.0</td>\n",
       "      <td>9592.0</td>\n",
       "      <td>9592.0</td>\n",
       "    </tr>\n",
       "    <tr>\n",
       "      <th>0,10</th>\n",
       "      <td>323.0</td>\n",
       "      <td>323.0</td>\n",
       "      <td>323.0</td>\n",
       "      <td>323.0</td>\n",
       "    </tr>\n",
       "    <tr>\n",
       "      <th>0,100</th>\n",
       "      <td>138.0</td>\n",
       "      <td>138.0</td>\n",
       "      <td>138.0</td>\n",
       "      <td>138.0</td>\n",
       "    </tr>\n",
       "    <tr>\n",
       "      <th>0,1000</th>\n",
       "      <td>231.0</td>\n",
       "      <td>231.0</td>\n",
       "      <td>231.0</td>\n",
       "      <td>231.0</td>\n",
       "    </tr>\n",
       "    <tr>\n",
       "      <th>...</th>\n",
       "      <td>...</td>\n",
       "      <td>...</td>\n",
       "      <td>...</td>\n",
       "      <td>...</td>\n",
       "    </tr>\n",
       "    <tr>\n",
       "      <th>999,995</th>\n",
       "      <td>337.0</td>\n",
       "      <td>337.0</td>\n",
       "      <td>337.0</td>\n",
       "      <td>337.0</td>\n",
       "    </tr>\n",
       "    <tr>\n",
       "      <th>999,996</th>\n",
       "      <td>418.0</td>\n",
       "      <td>418.0</td>\n",
       "      <td>418.0</td>\n",
       "      <td>418.0</td>\n",
       "    </tr>\n",
       "    <tr>\n",
       "      <th>999,997</th>\n",
       "      <td>922.0</td>\n",
       "      <td>922.0</td>\n",
       "      <td>922.0</td>\n",
       "      <td>922.0</td>\n",
       "    </tr>\n",
       "    <tr>\n",
       "      <th>999,998</th>\n",
       "      <td>2729.0</td>\n",
       "      <td>2729.0</td>\n",
       "      <td>2729.0</td>\n",
       "      <td>2729.0</td>\n",
       "    </tr>\n",
       "    <tr>\n",
       "      <th>999,999</th>\n",
       "      <td>23271.0</td>\n",
       "      <td>23271.0</td>\n",
       "      <td>23271.0</td>\n",
       "      <td>23271.0</td>\n",
       "    </tr>\n",
       "  </tbody>\n",
       "</table>\n",
       "<p>3996053 rows × 4 columns</p>\n",
       "</div>"
      ],
      "text/plain": [
       "              index  timestamp  user_id  pixel_color\n",
       "coordinate                                          \n",
       "0,0         98807.0    98807.0  98807.0      98807.0\n",
       "0,1          9592.0     9592.0   9592.0       9592.0\n",
       "0,10          323.0      323.0    323.0        323.0\n",
       "0,100         138.0      138.0    138.0        138.0\n",
       "0,1000        231.0      231.0    231.0        231.0\n",
       "...             ...        ...      ...          ...\n",
       "999,995       337.0      337.0    337.0        337.0\n",
       "999,996       418.0      418.0    418.0        418.0\n",
       "999,997       922.0      922.0    922.0        922.0\n",
       "999,998      2729.0     2729.0   2729.0       2729.0\n",
       "999,999     23271.0    23271.0  23271.0      23271.0\n",
       "\n",
       "[3996053 rows x 4 columns]"
      ]
     },
     "execution_count": 52,
     "metadata": {},
     "output_type": "execute_result"
    }
   ],
   "source": [
    "df = merge_count_clicks(files[:])\n",
    "df"
   ]
  },
  {
   "cell_type": "code",
   "execution_count": 1,
   "metadata": {},
   "outputs": [
    {
     "ename": "NameError",
     "evalue": "name 'df' is not defined",
     "output_type": "error",
     "traceback": [
      "\u001b[0;31m---------------------------------------------------------------------------\u001b[0m",
      "\u001b[0;31mNameError\u001b[0m                                 Traceback (most recent call last)",
      "\u001b[0;32m/var/folders/jy/ts_mdpfs04d36f2cz44nqbl00000gn/T/ipykernel_24107/3405502580.py\u001b[0m in \u001b[0;36m<module>\u001b[0;34m\u001b[0m\n\u001b[0;32m----> 1\u001b[0;31m \u001b[0mdf\u001b[0m\u001b[0;34m[\u001b[0m\u001b[0;34m[\u001b[0m\u001b[0;34m'index'\u001b[0m\u001b[0;34m]\u001b[0m\u001b[0;34m]\u001b[0m\u001b[0;34m.\u001b[0m\u001b[0mto_csv\u001b[0m\u001b[0;34m(\u001b[0m\u001b[0mos\u001b[0m\u001b[0;34m.\u001b[0m\u001b[0mpath\u001b[0m\u001b[0;34m.\u001b[0m\u001b[0mjoin\u001b[0m\u001b[0;34m(\u001b[0m\u001b[0mdest_path\u001b[0m\u001b[0;34m,\u001b[0m \u001b[0;34m\"clicks_count.csv\"\u001b[0m\u001b[0;34m)\u001b[0m\u001b[0;34m)\u001b[0m\u001b[0;34m\u001b[0m\u001b[0;34m\u001b[0m\u001b[0m\n\u001b[0m",
      "\u001b[0;31mNameError\u001b[0m: name 'df' is not defined"
     ]
    }
   ],
   "source": [
    "df.to_csv(os.path.join(dest_path, \"clicks_count.csv\"))"
   ]
  },
  {
   "cell_type": "code",
   "execution_count": 53,
   "metadata": {},
   "outputs": [],
   "source": [
    "def clicks_count_to_matrix(df: pd.DataFrame):\n",
    "    m = np.zeros((2000, 2000))\n",
    "\n",
    "    for i in range(m.shape[0]):\n",
    "        for j in range(m.shape[1]):\n",
    "            try:\n",
    "                v = df.loc[f\"{j},{i}\"]\n",
    "                if v[\"index\"] != None:\n",
    "                    m[i][j] = v[\"index\"]\n",
    "            except:\n",
    "                pass\n",
    "\n",
    "    return m"
   ]
  },
  {
   "cell_type": "code",
   "execution_count": 54,
   "metadata": {},
   "outputs": [
    {
     "data": {
      "text/plain": [
       "array([[98807.,  9592.,  3888., ...,   738.,  1716., 22797.],\n",
       "       [11294., 12083.,  1840., ...,   731.,  2052.,  2319.],\n",
       "       [ 4721.,  2152.,  4456., ...,   857.,   665.,   862.],\n",
       "       ...,\n",
       "       [ 1464.,   733.,  1066., ...,   584.,   448.,  1352.],\n",
       "       [ 3722.,  2184.,  1321., ...,   410.,  1701.,  3641.],\n",
       "       [30895.,  3268.,  1624., ...,   776.,  2701., 31471.]])"
      ]
     },
     "execution_count": 54,
     "metadata": {},
     "output_type": "execute_result"
    }
   ],
   "source": [
    "m = clicks_count_to_matrix(df)\n",
    "m"
   ]
  },
  {
   "cell_type": "code",
   "execution_count": 59,
   "metadata": {},
   "outputs": [],
   "source": [
    "np.save(os.path.join(dest_path, \"clicks_count_matrix\"), m)"
   ]
  }
 ],
 "metadata": {
  "interpreter": {
   "hash": "c630b349f7183e9a5f9274d889fc3e15c392ce12037771bccbc1917471fc634b"
  },
  "kernelspec": {
   "display_name": "Python 3.9.7 ('base')",
   "language": "python",
   "name": "python3"
  },
  "language_info": {
   "codemirror_mode": {
    "name": "ipython",
    "version": 3
   },
   "file_extension": ".py",
   "mimetype": "text/x-python",
   "name": "python",
   "nbconvert_exporter": "python",
   "pygments_lexer": "ipython3",
   "version": "3.9.7"
  }
 },
 "nbformat": 4,
 "nbformat_minor": 0
}
