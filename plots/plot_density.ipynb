{
 "cells": [
  {
   "cell_type": "markdown",
   "metadata": {},
   "source": [
    "# Imports"
   ]
  },
  {
   "cell_type": "code",
   "execution_count": 14,
   "metadata": {},
   "outputs": [],
   "source": [
    "import plotly.express as px\n",
    "import numpy as np\n",
    "import os\n",
    "import plotly.graph_objects as go\n",
    "from plotly.subplots import make_subplots"
   ]
  },
  {
   "cell_type": "markdown",
   "metadata": {},
   "source": [
    "# Load datas"
   ]
  },
  {
   "cell_type": "code",
   "execution_count": 15,
   "metadata": {},
   "outputs": [],
   "source": [
    "src_path = os.path.join(\"/\", \"Volumes\", \"owen\", \"datas\", \"rplace\")"
   ]
  },
  {
   "cell_type": "code",
   "execution_count": 16,
   "metadata": {},
   "outputs": [],
   "source": [
    "matrix_clicks_count = np.load(os.path.join(src_path, \"clicks_count_matrix.npy\"))"
   ]
  },
  {
   "cell_type": "markdown",
   "metadata": {},
   "source": [
    "# Click density map"
   ]
  },
  {
   "cell_type": "code",
   "execution_count": 17,
   "metadata": {},
   "outputs": [],
   "source": [
    "fig = px.imshow(\n",
    "    np.log1p(matrix_clicks_count),\n",
    "    height=1000,\n",
    "    title=\"Densité de clicks sur le canvas r/place de 2022\"\n",
    ")\n",
    "\n",
    "fig.write_html(\"html/density_2d.html\")\n",
    "fig.show()"
   ]
  },
  {
   "cell_type": "code",
   "execution_count": null,
   "metadata": {},
   "outputs": [],
   "source": [
    "fig1 = go.Figure(data=[go.Surface(z=matrix_clicks_count)])\n",
    "fig2 = go.Figure(data=[go.Surface(z=np.log1p(matrix_clicks_count))])\n",
    "\n",
    "update_layout_args = dict(\n",
    "    title=\"Densité de clicks sur le canvas r/place de 2022 en 3D\",\n",
    "    height=1000\n",
    ")\n",
    "\n",
    "fig1.update_layout(**update_layout_args)\n",
    "fig1.write_html(\"html/density_3d.html\")\n",
    "fig1.show()\n",
    "\n",
    "update_layout_args[\"title\"] = f\"{update_layout_args['title']} (échelle logarithmique)\"\n",
    "fig2.update_layout(**update_layout_args)\n",
    "fig2.write_html(\"html/density_log_3d.html\")\n",
    "fig2.show()"
   ]
  }
 ],
 "metadata": {
  "kernelspec": {
   "display_name": "Python 3.9.7 ('base')",
   "language": "python",
   "name": "python3"
  },
  "language_info": {
   "codemirror_mode": {
    "name": "ipython",
    "version": 3
   },
   "file_extension": ".py",
   "mimetype": "text/x-python",
   "name": "python",
   "nbconvert_exporter": "python",
   "pygments_lexer": "ipython3",
   "version": "3.9.7"
  },
  "orig_nbformat": 4,
  "vscode": {
   "interpreter": {
    "hash": "c630b349f7183e9a5f9274d889fc3e15c392ce12037771bccbc1917471fc634b"
   }
  }
 },
 "nbformat": 4,
 "nbformat_minor": 2
}
